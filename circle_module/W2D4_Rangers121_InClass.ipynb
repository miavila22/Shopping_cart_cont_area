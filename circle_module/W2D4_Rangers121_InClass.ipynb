{
 "cells": [
  {
   "cell_type": "markdown",
   "metadata": {},
   "source": [
    "# User-Defined Functions & Scoping"
   ]
  },
  {
   "cell_type": "markdown",
   "metadata": {},
   "source": [
    "## Tasks Today:\n",
    "\n",
    "\n",
    "1) Functions <br>\n",
    " &nbsp;&nbsp;&nbsp;&nbsp; a) User-Defined vs. Built-In Functions <br>\n",
    " &nbsp;&nbsp;&nbsp;&nbsp; b) Accepting Parameters <br>\n",
    " &nbsp;&nbsp;&nbsp;&nbsp; c) Default Parameters <br>\n",
    " &nbsp;&nbsp;&nbsp;&nbsp; d) Making an Argument Optional <br>\n",
    " &nbsp;&nbsp;&nbsp;&nbsp; e) Keyword Arguments <br>\n",
    " &nbsp;&nbsp;&nbsp;&nbsp; f) Returning Values <br>\n",
    " &nbsp;&nbsp;&nbsp;&nbsp; g) *args <br>\n",
    " &nbsp;&nbsp;&nbsp;&nbsp; h) Docstring <br>\n",
    " &nbsp;&nbsp;&nbsp;&nbsp; i) Using a User Function in a Loop <br>\n",
    "2) Scope\n",
    "3) Creating more User-Defined functions "
   ]
  },
  {
   "cell_type": "markdown",
   "metadata": {},
   "source": [
    "\n",
    "## Functions"
   ]
  },
  {
   "cell_type": "markdown",
   "metadata": {},
   "source": [
    "##### User-Defined vs. Built-In Functions"
   ]
  },
  {
   "cell_type": "code",
   "execution_count": null,
   "metadata": {},
   "outputs": [],
   "source": [
    "#built-in function\n",
    "#print(\"Hello\")\n",
    "print(\"hello\")\n",
    "\n",
    "# user defined function\n",
    "\n",
    "# def precedes every function name \n",
    "#def keyword followed by the fucntion name.  (which can be anything. it sjust a variable name) pararentheses (parameter), \"NOT ALL FUNCTIONS WILL ACCEPT PARAMETER.\n",
    "def say_hello():\n",
    "    return \"Hello\" #output of a function\n",
    "#return will give us a tangible value we can work with, pass into other funcitons, alter, set to variable\n",
    "\n",
    "say_hello() #calling a function\n",
    "#calling a function by typing the name of the function followed by parentheses.\n",
    "\n",
    "def say_hello2():\n",
    "    return \"hello again\"\n",
    "\n",
    "output = say_hello2() #setting a variable to the output of a function\n",
    "\n",
    "print(output)\n",
    "\n",
    "print(say_hello2().upper()) #change the shape of the output with a built-in function.\n",
    "\n",
    "#use the output of a function inside another function\n",
    "\n",
    "def say_hello3():\n",
    "    hello = say_hello() #setting a variable inside of function to the output of another function\n",
    "    return hello.title()#titlecasing output from another function.\n",
    "\n",
    "print(say_hello3())\n"
   ]
  },
  {
   "cell_type": "markdown",
   "metadata": {},
   "source": [
    "##### Accepting Parameters"
   ]
  },
  {
   "cell_type": "code",
   "execution_count": null,
   "metadata": {
    "scrolled": true
   },
   "outputs": [],
   "source": [
    "# elements passed into a function\n",
    "# variables to hold the place of items our function will act upon\n",
    "# order matters\n",
    "# a parameter can be of any object type (data type)\n",
    "                    #parameter\n",
    "def print_something(something):\n",
    "    return something\n",
    "# when calling a function, the thing you put in the parenthese\n",
    "#is called an arguement.\n",
    "#the difference between a paramenter and an arguement:\n",
    "#a parameter is a place holder for an argument.\n",
    "#an arguement is what the function acts on. \n",
    "print_something(({\"Hello There\" : \"General Kenobi\"}))\n",
    "\n",
    "# We can call the same function several times with differenct arguements and \n",
    "#get a diffferent output each time. \n",
    "# Homework a couple of nights ago\n",
    "def adlib(noun, adjective, verb):\n",
    "    return f\"The {adjective} {noun} {verb} in the bathroom\"\n",
    "print(adlib(\"pumpkin\", \"scary\", \"sleeps\"))\n",
    "\n",
    "print(adlib(\"car\", \"furious\", \"drives\"))\n",
    "\n",
    "#Write a function that loops through a given list and returns a \n",
    "#list with only the even numbers squared.\n",
    "\n",
    "list1 = [2,3,4,5,6,7,8]\n",
    "list2 = [4,18,3,13,16,10,27]\n",
    "# output = [4, 16, 36, 64]\n",
    "                #parameter or place holder. \n",
    "def square_even(a_list):\n",
    "    blist = []\n",
    "    #  Function is acting on the parameter. \n",
    "    for num in a_list: #loop\n",
    "        if num % 2 == 0:\n",
    "            blist.append(num**2)\n",
    "            #output a list with all of our numbers squared\n",
    "    return(blist)\n",
    "                    #arguement\n",
    "print(square_even(list1))\n",
    "                    #arguement\n",
    "print(square_even(list2))"
   ]
  },
  {
   "cell_type": "code",
   "execution_count": null,
   "metadata": {},
   "outputs": [],
   "source": []
  },
  {
   "cell_type": "markdown",
   "metadata": {},
   "source": [
    "##### Default Parameters"
   ]
  },
  {
   "cell_type": "code",
   "execution_count": null,
   "metadata": {},
   "outputs": [],
   "source": [
    "# default parameters must always come after \n",
    "# non-default parameters at all times forever and ever...or else\n",
    "# for as many parameters as our function accepts, it needs to take in that many arguements\n",
    "# no more, no less.\n",
    "\n",
    "# def print_name(name):\n",
    "#     return name\n",
    "# print(print_name(\"ryan\", \"eyo\")) # Error: print_name() missing 1 required positional argument: 'name'\n",
    "\n",
    "def agent_name(first_name, last_name = \"Bond\", middle_name = \"007\"):\n",
    "    return f\"The name is {last_name}, {first_name} {last_name}....{middle_name}\"\n",
    "\n",
    "print(agent_name(\"James\"))\n",
    "print(agent_name(\"Jimmy\", \"Borf\", \"Gorf\"))"
   ]
  },
  {
   "cell_type": "code",
   "execution_count": null,
   "metadata": {},
   "outputs": [],
   "source": [
    "# default parameters must always come after non-default parameters at all times forever and ever...or else\n",
    "\n"
   ]
  },
  {
   "cell_type": "markdown",
   "metadata": {},
   "source": [
    "##### Making an Argument Optional"
   ]
  },
  {
   "cell_type": "code",
   "execution_count": null,
   "metadata": {},
   "outputs": [],
   "source": [
    "#If an arguement is not provided, the middle will come back as an empty str or nothing at all.\n",
    "def print_horse_name(first, middle=\"\", last = \"Ed\"):\n",
    "    return f\"Hello {first} {middle} {last}\"\n",
    "print(print_horse_name(\"Mr.\"))\n",
    "print(print_horse_name(\"Mr.\", \"Cool Guy\"))\n",
    "\n",
    "print(print_horse_name(\"Mr.\", \"Shadowfax\", \"\"))"
   ]
  },
  {
   "cell_type": "markdown",
   "metadata": {},
   "source": [
    "##### Keyword Arguments"
   ]
  },
  {
   "cell_type": "code",
   "execution_count": null,
   "metadata": {},
   "outputs": [],
   "source": [
    "#keyword arguments must follow positional arugments\n",
    "#positional arguments are arguments that fulfill the sam location as the parameter theyre referencing\n",
    "\n",
    "def subtract_nums(num1, num2, num3):\n",
    "    return num3 - num2 - num1 \n",
    "#                    n1  n2  n3\n",
    "print(subtract_nums(10, 20, 40))\n",
    "\n",
    "#keyword argumens are variables that are created when the function is called\n",
    "def print_hero(name, secret_identity, power= \"flying\"):\n",
    "    return f\"{name}'s power is {power} and their secret identity is {secret_identity}\"\n",
    "print(print_hero(secret_identity = \"Burce Wayne\", power = \"Money\", name = \"Batman\"))"
   ]
  },
  {
   "cell_type": "markdown",
   "metadata": {},
   "source": [
    "# Creating a start, stop, step function"
   ]
  },
  {
   "cell_type": "code",
   "execution_count": null,
   "metadata": {
    "scrolled": true
   },
   "outputs": [],
   "source": [
    "#stop function is required \n",
    "\n",
    "def my_range(stop, start = 0, step = 1):\n",
    "    for i in range(start, stop, step):\n",
    "        print(i)\n",
    "    return \"Hey, great job, you're beautiful\"\n",
    "print(my_range(13))\n",
    "my_range(15, 1, 2)"
   ]
  },
  {
   "cell_type": "code",
   "execution_count": null,
   "metadata": {},
   "outputs": [],
   "source": [
    "def my_range(stop, start = 0, step = 1):\n",
    "    range_list = []\n",
    "    while start < stop:\n",
    "        print(start)\n",
    "        range_list.append(start)\n",
    "        start += step\n",
    "    print(\"Hey great job, you're really doing this\")\n",
    "    return range_list\n",
    "my_range(15, 1, 2)"
   ]
  },
  {
   "cell_type": "markdown",
   "metadata": {},
   "source": [
    "##### Returning Values"
   ]
  },
  {
   "cell_type": "code",
   "execution_count": null,
   "metadata": {},
   "outputs": [],
   "source": [
    "#returning will give us a tangible value we can work with, pass into other functions, alter, set \n",
    "#to variable.\n",
    "def return_something(something):\n",
    "    return something\n",
    "return_something(\"something\")"
   ]
  },
  {
   "cell_type": "markdown",
   "metadata": {},
   "source": [
    "##### *args / **kwargs (keyword arguments)"
   ]
  },
  {
   "cell_type": "code",
   "execution_count": null,
   "metadata": {},
   "outputs": [],
   "source": [
    "#*args (arguments), **kwargs(keyword arguements)\n",
    "# *args stands for arguments and will allow the function to take in any number of arguments\n",
    "# **kwargs stands for key word arguments and will allow the function to take in any number of keyword arguments\n",
    "# if other parameters are present, args and kwarfs must go last\n",
    "\n",
    "def print_args(num1, num2, name, *args, **kwargs):\n",
    "    print(\"These are my positional arguments\", num1, num2, name)\n",
    "    print(\"These are my *args,\", args)\n",
    "    print(\"These are my **kwargs\", kwargs)\n",
    "\n",
    "print_args(20, 23, \"Yamcha\", \"Goku\", \"Krillin\", \"Gohan\", bad_guy = \"Cell\", bad_guy2 = \"Frieza\", dragon_balls = [1,2,3,4,5,6,7])"
   ]
  },
  {
   "cell_type": "markdown",
   "metadata": {},
   "source": [
    "##### Docstring"
   ]
  },
  {
   "cell_type": "code",
   "execution_count": null,
   "metadata": {},
   "outputs": [],
   "source": [
    "# docstrings are a really nice way to leave notes about funciontality in your code\n",
    "# provide instructions\n",
    "\n",
    "def title_names(arr):\n",
    "    \"\"\"\n",
    "    title_names(arr)\n",
    "    functions expects la list of strings to be passed in as an argument\n",
    "    It will loop thought the list of strings, capitalize them and return\n",
    "    a new list with the title-cased strings.\n",
    "    \"\"\"\n",
    "    for name in arr:\n",
    "        titles.append(name.title())\n",
    "    return titles\n",
    "\n",
    "help(title_names)\n",
    "\n",
    "    \n",
    "\n",
    "    "
   ]
  },
  {
   "cell_type": "markdown",
   "metadata": {},
   "source": [
    "##### Using a User Function in a Loop"
   ]
  },
  {
   "cell_type": "code",
   "execution_count": null,
   "metadata": {},
   "outputs": [],
   "source": [
    "store = {}\n"
   ]
  },
  {
   "cell_type": "code",
   "execution_count": null,
   "metadata": {
    "scrolled": true
   },
   "outputs": [],
   "source": [
    "def add_to_store(storage):\n",
    "    item = input(\"add something\")\n",
    "    quantity = input (\"add something\")\n",
    "\n",
    "    storage[item] = quantity\n",
    "\n",
    "\n",
    "add_to_store(store)\n",
    "\n"
   ]
  },
  {
   "cell_type": "code",
   "execution_count": null,
   "metadata": {},
   "outputs": [],
   "source": [
    "print(store)"
   ]
  },
  {
   "cell_type": "code",
   "execution_count": null,
   "metadata": {},
   "outputs": [],
   "source": [
    "print(new_store)"
   ]
  },
  {
   "cell_type": "code",
   "execution_count": null,
   "metadata": {},
   "outputs": [],
   "source": [
    "cart = {}\n",
    "def add_item(user_cart):\n",
    "    item = input(\"What would you like to add?\")\n",
    "    quantity = int(input(f\"how many {item} would you like to add?\"))\n",
    "    if item not in user_cart:\n",
    "        user_cart[item] = quantity\n",
    "    else:\n",
    "        user_cart[item] += quantity\n",
    "\n",
    "def remove_items(user_cart):\n",
    "    item = input(\"What would you like to remove from your cart\")\n",
    "    del user_cart[item]\n",
    "\n",
    "def view_cart(user_cart):\n",
    "    print(user_cart)\n",
    "\n",
    "def run(user_cart):\n",
    "    while True:\n",
    "        response = input(\"what would you like to do? add, remove, show, quit?\")\n",
    "        if response.lower() == \"add\":\n",
    "            add_item(user_cart)\n",
    "        elif response.lower() == \"remove\":\n",
    "            remove_item(user_cart)\n",
    "        elif response.lower() == \"show\":\n",
    "            view_cart(user_cart)\n",
    "        elif response.lower == \"quit\":\n",
    "            print(user_cart)\n",
    "            break \n",
    "\n",
    "        else:\n",
    "            print(\"please enter a valid response\")\n",
    "\n"
   ]
  },
  {
   "cell_type": "markdown",
   "metadata": {},
   "source": [
    "## Function Exercises <br>\n",
    "### Exercise 1\n",
    "<p>Write a function that loops through a list of first_names and a list of last_names, combines the two and return a list of full_names</p>"
   ]
  },
  {
   "cell_type": "code",
   "execution_count": null,
   "metadata": {},
   "outputs": [],
   "source": []
  },
  {
   "cell_type": "code",
   "execution_count": null,
   "metadata": {},
   "outputs": [],
   "source": [
    "first_name = ['John', 'Evan', 'Jordan', 'Max',]\n",
    "last_name = ['Smith', 'Smith', 'Williams', 'Bell']\n",
    "\n",
    "# Output: ['John Smith', 'Evan Smith', 'Jordan Williams', 'Max Bell']\n",
    "def combine_names(first_names, last_names):\n",
    "    combine_name = []\n",
    "    if len(first_names) != len(last_names):\n",
    "        print(\"Those two lists are of different lengths! and I dont want to deal with that!\")\n",
    "        return combine_name\n",
    "    else:\n",
    "        for i in range(len(first_names)):\n",
    "            combine_name.append(first_names[i] + \" \" + last_names[i])\n",
    "    return combine_name\n",
    "combine_names(first_name, last_name)"
   ]
  },
  {
   "cell_type": "markdown",
   "metadata": {},
   "source": [
    "### Exercise 2\n",
    "Create a function that alters all values in the given list by subtracting 5 and then doubling them."
   ]
  },
  {
   "cell_type": "code",
   "execution_count": null,
   "metadata": {},
   "outputs": [],
   "source": [
    "input_list = [5,10,15,20,3]\n",
    "# output = [0,10,20,30,-4]\n",
    "\n",
    "\n",
    "def function(input_list):\n",
    "    result = []\n",
    "    for num in input_list:\n",
    "        num2= (num - 5)*2\n",
    "        result.append(num2)\n",
    "    return result\n",
    "\n",
    "print(function(input_list))\n",
    "\n",
    "# OR\n",
    "\n",
    "# def problem(list1):\n",
    "#     return [(i-5)*2 for i in list1]\n",
    "\n",
    "# print(problem(input_list))\n"
   ]
  },
  {
   "cell_type": "markdown",
   "metadata": {},
   "source": [
    "### Exercise 3\n",
    "Create a function that takes in a list of strings and filters out the strings that DO NOT contain vowels. "
   ]
  },
  {
   "cell_type": "code",
   "execution_count": null,
   "metadata": {},
   "outputs": [],
   "source": [
    "string_list = ['Sheldon','Pnny','Leonard','Hwrd','Rj','Amy','Strt']\n",
    "# output = ['Sheldon','Leonard','Amy']\n",
    "\n",
    "\n",
    "def remove_vowels(input_list):\n",
    "    vowels = [\"a\" \"e\" \"i\" \"o\" \"u\"]\n",
    "    new_list = []\n",
    "    for i in input_list:\n",
    "        for letter in name:\n",
    "            if letter.lower() in vowels:\n",
    "                new_list.append(name)\n",
    "                break\n",
    "    return new_list\n",
    "\n",
    "print(remove_vowels(string_list))\n",
    "\n",
    "# def vowel(list1):\n",
    "#     new_list = []\n",
    "#     vowels = ['a', 'e', 'i', 'o', 'u']\n",
    "#     for name in list1:\n",
    "#         for letter in name:\n",
    "#             if letter.lower() in vowels:\n",
    "#                 new_list.append(name)\n",
    "#                 break\n",
    "                \n",
    "#     return new_list\n",
    "\n",
    "# print(vowel(string_list))\n"
   ]
  },
  {
   "cell_type": "code",
   "execution_count": null,
   "metadata": {},
   "outputs": [],
   "source": []
  },
  {
   "cell_type": "code",
   "execution_count": null,
   "metadata": {},
   "outputs": [],
   "source": []
  },
  {
   "cell_type": "markdown",
   "metadata": {},
   "source": [
    "### Exercise 4\n",
    "Create a function that accepts a list as a parameter and returns a dictionary containing the list items as it's keys, and the number of times they appear in the list as the values"
   ]
  },
  {
   "cell_type": "code",
   "execution_count": null,
   "metadata": {},
   "outputs": [],
   "source": [
    "example_list = [\"Harry\", 'Hermione','Harry','Ron','Dobby','Draco','Luna','Harry','Hermione','Ron','Ron','Ron']\n",
    "\n",
    "\n",
    "# def get_count_dict(input_list):\n",
    "#     no_dups = set(input_list)\n",
    "\n",
    "#     output_dict = {}\n",
    "\n",
    "#     for item in no_dups:\n",
    "#         output_dict[item] = input_list.count(item)\n",
    "#     print(no_dups)\n",
    "\n",
    "#     return output_dict\n",
    "\n",
    "# print(get_count_dict(example_list))\n",
    "\n",
    "\n",
    "def get_count_dict(input_list):\n",
    "    output_dict = {}\n",
    "\n",
    "    for item in input_list:\n",
    "        if output_dict.get(item) == None:\n",
    "            output_dict[item] = 1\n",
    "        else:\n",
    "            output_dict[item] = output_dict[item] +1\n",
    "    return output_dict\n",
    "\n",
    "print(get_count_dict(example_list))\n",
    "# output = {\n",
    "#     \"Harry\":3,\n",
    "#     \"Hermione\":2,\n",
    "#     \"Ron\":4,\n",
    "#     \"Dobby\":1,\n",
    "#     \"Draco\":1,\n",
    "#     \"Luna\": 1\n",
    "# }\n",
    "#.count gives the count of each item. \n",
    "# Make a set\n",
    "# use the set value to get the list count"
   ]
  },
  {
   "cell_type": "markdown",
   "metadata": {},
   "source": [
    "\n",
    "\n",
    "## Scope <br>\n",
    "<p>Scope refers to the ability to access variables, different types of scope include:<br>a) Global<br>b) Function (local)<br>c) Class (local)</p>"
   ]
  },
  {
   "cell_type": "code",
   "execution_count": null,
   "metadata": {},
   "outputs": [],
   "source": [
    "# placement of variable declaration matters\n",
    "name = \"Orlando Bloom\" #Global Variable\n",
    "#global variable can be acces by anything on that file\n",
    "\n",
    "def increment_stuff():\n",
    "    counter = 0 #Locally scoped function variable\n",
    "    print(name)\n",
    "    while counter < 10:\n",
    "        counter +=1\n",
    "        print(counter)\n",
    "increment_stuff()\n",
    "# print(num1)"
   ]
  },
  {
   "cell_type": "markdown",
   "metadata": {},
   "source": [
    "## Modules"
   ]
  },
  {
   "cell_type": "markdown",
   "metadata": {},
   "source": [
    "##### Importing Entire Modules\n"
   ]
  },
  {
   "cell_type": "code",
   "execution_count": null,
   "metadata": {},
   "outputs": [],
   "source": [
    "## Modules\n",
    "import math\n",
    "num = 5\n",
    "num2 = 2\n",
    "num3 = num//num2\n",
    "print(num3)\n",
    "\n",
    "print(math.ceil(5/2))\n",
    "\n",
    "print(math.ceil(math.pi))\n",
    "\n",
    "print(math.pi)\n",
    "\n",
    "\n",
    "\n"
   ]
  },
  {
   "cell_type": "markdown",
   "metadata": {},
   "source": [
    "##### Importing Methods Only"
   ]
  },
  {
   "cell_type": "code",
   "execution_count": null,
   "metadata": {},
   "outputs": [],
   "source": [
    "# from xxx import yyy\n",
    "#from math import floor\n"
   ]
  },
  {
   "cell_type": "markdown",
   "metadata": {},
   "source": [
    "##### Using the 'as' Keyword"
   ]
  },
  {
   "cell_type": "code",
   "execution_count": null,
   "metadata": {},
   "outputs": [],
   "source": [
    "# from xxx import yyy as z\n"
   ]
  },
  {
   "cell_type": "markdown",
   "metadata": {},
   "source": [
    "##### Creating a Module"
   ]
  },
  {
   "cell_type": "code",
   "execution_count": null,
   "metadata": {
    "scrolled": true
   },
   "outputs": [],
   "source": [
    "from module import printName as pn\n",
    "\n",
    "\n"
   ]
  },
  {
   "cell_type": "code",
   "execution_count": null,
   "metadata": {},
   "outputs": [],
   "source": []
  },
  {
   "cell_type": "markdown",
   "metadata": {},
   "source": [
    "# Homework Exercises"
   ]
  },
  {
   "cell_type": "markdown",
   "metadata": {},
   "source": [
    "# 1) Create a Module in VS Code and Import It into jupyter notebook <br>\n",
    "<p><b>Module should have the following capabilities:</b><br><br>\n",
    "1a) Has a function to calculate the square footage of a house <br>\n",
    "    <b>Reminder of Formula: Length X Width == Area</b><br>\n",
    "        <hr>\n",
    "1b) Has a function to calculate the circumference of a circle 2 Pi r <br><br>\n",
    "<b>Program in Jupyter Notebook should take in user input and use imported functions to calculate a circle's circumference or a houses square footage</b>\n",
    "</p>"
   ]
  },
  {
   "cell_type": "code",
   "execution_count": null,
   "metadata": {},
   "outputs": [],
   "source": [
    "#1a \n",
    "import area_cal_house \n",
    "def house(area):\n",
    "    area_of_house = length_side * width_side\n",
    "    return area_of_house\n",
    "\n",
    "\n",
    "len_side = input(\"Enter the length of the house: \")\n",
    "wid_side = input(\"Enter the width of the house: \")\n",
    "\n",
    "sq_foot = area_cal_house.house(len_side, wid_side)\n",
    "\n",
    "print(f\"The square footage of the house is {square_footage} sq. units\")\n"
   ]
  },
  {
   "cell_type": "code",
   "execution_count": null,
   "metadata": {},
   "outputs": [],
   "source": [
    "from over_cal import circle as cir\n",
    "\n"
   ]
  },
  {
   "cell_type": "code",
   "execution_count": null,
   "metadata": {},
   "outputs": [],
   "source": [
    "#1b\n",
    "\n",
    "# Has a function to calculate the circumference of a circle 2 Pi r\n",
    "import math\n",
    "def circle(radius): #need a function\n",
    "    circumference = 2 * math.pi * radius\n",
    "    return circle_area\n",
    "\n",
    "radius = input(\"Enter the radius of the circle: \")\n",
    "\n",
    "circumference = circle_module.circle(radius)\n",
    "print(f\"The circumference of the circle with the {radius} is:     \")"
   ]
  },
  {
   "cell_type": "code",
   "execution_count": null,
   "metadata": {},
   "outputs": [],
   "source": []
  },
  {
   "cell_type": "markdown",
   "metadata": {},
   "source": [
    "### 2) Build a Shopping Cart Function <br>\n",
    "<p><b>You can use either lists or dictionaries. The program should have the following capabilities:</b><br><br>\n",
    "1) Takes in input <br>\n",
    "2) Stores user input into a dictionary or list <br>\n",
    "3) The User can add or delete items <br>\n",
    "4) The User can see current shopping list <br>\n",
    "5) The program Loops until user 'quits' <br>\n",
    "6) Upon quiting the program, print out all items in the user's list <br>\n",
    "</p>"
   ]
  },
  {
   "cell_type": "code",
   "execution_count": null,
   "metadata": {},
   "outputs": [],
   "source": [
    "shopping_cart = [] \n",
    "\n",
    "while True:\n",
    "    user_cart = input(\"What would like to do? Press, 'add' to add item, 'show' to show items in cart, 'delete' to remove item, or 'quit' to exit.  \")\n",
    "\n",
    "    if user_cart == 'add':\n",
    "        add_item = input(\"What would you like add?: \")\n",
    "        shopping_cart.append(add_item)\n",
    "        print(f\"{add_item} is now in your cart.\")\n",
    "    \n",
    "    elif user_cart == 'show':\n",
    "        print(\"Current items in shopping cart: \")\n",
    "        if not shopping_cart:\n",
    "             print(\"Empty Cart.\")\n",
    "        else:\n",
    "            for item in shopping_cart:\n",
    "                print(item)\n",
    "        \n",
    "            \n",
    "    elif user_cart == 'delete':\n",
    "        delete_item = input(\"Which item would you like to remove?\")\n",
    "        if delete_item in shopping_cart:\n",
    "            shopping_cart.remove(delete_item)\n",
    "            print(f\"{delete_item} has been removed from cart\")\n",
    "            \n",
    "    elif user_cart == 'quit':\n",
    "        print(\"Exiting the cart\")\n",
    "        break\n",
    "    else:\n",
    "        print(\"Try again.\")\n",
    "\n",
    "print(\"Final items in cart: \")\n",
    "for item in shopping_cart:\n",
    "    print(item)\n",
    "        \n",
    "        \n",
    "        \n",
    "# Reference below but try something different to understand\n",
    "# def add_item(customer_cart):\n",
    "#     item = input(\"What would you like to add?\")\n",
    "#     quantity = int(input(f\"how many {item} would you like to add?\"))\n",
    "#     if item not in user_cart:\n",
    "#         customer_cart[item] = quantity\n",
    "#     else:\n",
    "#         customer_cart[item] += quantity\n",
    "\n",
    "# def remove_items(customer_cart):\n",
    "#     item = input(\"What would you like to remove from your cart\")\n",
    "#     del customer_cart[item]\n",
    "\n",
    "# def view_cart(customer_cart):\n",
    "#     print(customer_cart)\n",
    "\n",
    "# def run(customer_cart):\n",
    "#     while True:\n",
    "#         response = input(\"what would you like to do? add, remove, show, quit?\")\n",
    "#         if response.lower() == \"add\":\n",
    "#             add_item(customer_cart)\n",
    "#         elif response.lower() == \"remove\":\n",
    "#             remove_item(customer_cart)\n",
    "#         elif response.lower() == \"show\":\n",
    "#             view_cart(customer_cart)\n",
    "#         elif response.lower == \"quit\":\n",
    "#             print(customer_cart)\n",
    "#             break \n",
    "\n",
    "#         else:\n",
    "#             print(\"please enter a valid response\")\n"
   ]
  },
  {
   "cell_type": "code",
   "execution_count": null,
   "metadata": {},
   "outputs": [],
   "source": []
  },
  {
   "cell_type": "code",
   "execution_count": null,
   "metadata": {},
   "outputs": [],
   "source": []
  }
 ],
 "metadata": {
  "kernelspec": {
   "display_name": "Python 3 (ipykernel)",
   "language": "python",
   "name": "python3"
  },
  "language_info": {
   "codemirror_mode": {
    "name": "ipython",
    "version": 3
   },
   "file_extension": ".py",
   "mimetype": "text/x-python",
   "name": "python",
   "nbconvert_exporter": "python",
   "pygments_lexer": "ipython3",
   "version": "3.11.5"
  }
 },
 "nbformat": 4,
 "nbformat_minor": 4
}
