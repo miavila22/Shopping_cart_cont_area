{
 "cells": [
  {
   "cell_type": "markdown",
   "metadata": {},
   "source": [
    "# User-Defined Functions & Scoping"
   ]
  },
  {
   "cell_type": "markdown",
   "metadata": {},
   "source": [
    "## Tasks Today:\n",
    "\n",
    "\n",
    "1) Functions <br>\n",
    " &nbsp;&nbsp;&nbsp;&nbsp; a) User-Defined vs. Built-In Functions <br>\n",
    " &nbsp;&nbsp;&nbsp;&nbsp; b) Accepting Parameters <br>\n",
    " &nbsp;&nbsp;&nbsp;&nbsp; c) Default Parameters <br>\n",
    " &nbsp;&nbsp;&nbsp;&nbsp; d) Making an Argument Optional <br>\n",
    " &nbsp;&nbsp;&nbsp;&nbsp; e) Keyword Arguments <br>\n",
    " &nbsp;&nbsp;&nbsp;&nbsp; f) Returning Values <br>\n",
    " &nbsp;&nbsp;&nbsp;&nbsp; g) *args <br>\n",
    " &nbsp;&nbsp;&nbsp;&nbsp; h) Docstring <br>\n",
    " &nbsp;&nbsp;&nbsp;&nbsp; i) Using a User Function in a Loop <br>\n",
    "2) Scope\n",
    "3) Creating more User-Defined functions "
   ]
  },
  {
   "cell_type": "markdown",
   "metadata": {},
   "source": [
    "\n",
    "## Functions"
   ]
  },
  {
   "cell_type": "markdown",
   "metadata": {},
   "source": [
    "##### User-Defined vs. Built-In Functions"
   ]
  },
  {
   "cell_type": "code",
   "execution_count": 5,
   "metadata": {},
   "outputs": [
    {
     "name": "stdout",
     "output_type": "stream",
     "text": [
      "hello\n",
      "hello again\n",
      "HELLO AGAIN\n",
      "Hello\n"
     ]
    }
   ],
   "source": [
    "#built-in function\n",
    "#print(\"Hello\")\n",
    "print(\"hello\")\n",
    "\n",
    "# user defined function\n",
    "\n",
    "# def precedes every function name \n",
    "#def keyword followed by the fucntion name.  (which can be anything. it sjust a variable name) pararentheses (parameter), \"NOT ALL FUNCTIONS WILL ACCEPT PARAMETER.\n",
    "def say_hello():\n",
    "    return \"Hello\" #output of a function\n",
    "#return will give us a tangible value we can work with, pass into other funcitons, alter, set to variable\n",
    "\n",
    "say_hello() #calling a function\n",
    "#calling a function by typing the name of the function followed by parentheses.\n",
    "\n",
    "def say_hello2():\n",
    "    return \"hello again\"\n",
    "\n",
    "output = say_hello2() #setting a variable to the output of a function\n",
    "\n",
    "print(output)\n",
    "\n",
    "print(say_hello2().upper()) #change the shape of the output with a built-in function.\n",
    "\n",
    "#use the output of a function inside another function\n",
    "\n",
    "def say_hello3():\n",
    "    hello = say_hello() #setting a variable inside of function to the output of another function\n",
    "    return hello.title()#titlecasing output from another function.\n",
    "\n",
    "print(say_hello3())\n"
   ]
  },
  {
   "cell_type": "markdown",
   "metadata": {},
   "source": [
    "##### Accepting Parameters"
   ]
  },
  {
   "cell_type": "code",
   "execution_count": 14,
   "metadata": {
    "scrolled": true
   },
   "outputs": [
    {
     "name": "stdout",
     "output_type": "stream",
     "text": [
      "The scary pumpkin sleeps in the bathroom\n",
      "The furious car drives in the bathroom\n",
      "[4, 16, 36, 64]\n",
      "[16, 324, 256, 100]\n"
     ]
    }
   ],
   "source": [
    "# elements passed into a function\n",
    "# variables to hold the place of items our function will act upon\n",
    "# order matters\n",
    "# a parameter can be of any object type (data type)\n",
    "                    #parameter\n",
    "def print_something(something):\n",
    "    return something\n",
    "# when calling a function, the thing you put in the parenthese\n",
    "#is called an arguement.\n",
    "#the difference between a paramenter and an arguement:\n",
    "#a parameter is a place holder for an argument.\n",
    "#an arguement is what the function acts on. \n",
    "print_something(({\"Hello There\" : \"General Kenobi\"}))\n",
    "\n",
    "# We can call the same function several times with differenct arguements and \n",
    "#get a diffferent output each time. \n",
    "# Homework a couple of nights ago\n",
    "def adlib(noun, adjective, verb):\n",
    "    return f\"The {adjective} {noun} {verb} in the bathroom\"\n",
    "print(adlib(\"pumpkin\", \"scary\", \"sleeps\"))\n",
    "\n",
    "print(adlib(\"car\", \"furious\", \"drives\"))\n",
    "\n",
    "#Write a function that loops through a given list and returns a \n",
    "#list with only the even numbers squared.\n",
    "\n",
    "list1 = [2,3,4,5,6,7,8]\n",
    "list2 = [4,18,3,13,16,10,27]\n",
    "# output = [4, 16, 36, 64]\n",
    "                #parameter or place holder. \n",
    "def square_even(a_list):\n",
    "    blist = []\n",
    "    #  Function is acting on the parameter. \n",
    "    for num in a_list: #loop\n",
    "        if num % 2 == 0:\n",
    "            blist.append(num**2)\n",
    "            #output a list with all of our numbers squared\n",
    "    return(blist)\n",
    "                    #arguement\n",
    "print(square_even(list1))\n",
    "                    #arguement\n",
    "print(square_even(list2))"
   ]
  },
  {
   "cell_type": "code",
   "execution_count": null,
   "metadata": {},
   "outputs": [],
   "source": []
  },
  {
   "cell_type": "markdown",
   "metadata": {},
   "source": [
    "##### Default Parameters"
   ]
  },
  {
   "cell_type": "code",
   "execution_count": 20,
   "metadata": {},
   "outputs": [
    {
     "name": "stdout",
     "output_type": "stream",
     "text": [
      "The name is Bond, James Bond....007\n",
      "The name is Borf, Jimmy Borf....Gorf\n"
     ]
    }
   ],
   "source": [
    "# default parameters must always come after \n",
    "# non-default parameters at all times forever and ever...or else\n",
    "# for as many parameters as our function accepts, it needs to take in that many arguements\n",
    "# no more, no less.\n",
    "\n",
    "# def print_name(name):\n",
    "#     return name\n",
    "# print(print_name(\"ryan\", \"eyo\")) # Error: print_name() missing 1 required positional argument: 'name'\n",
    "\n",
    "def agent_name(first_name, last_name = \"Bond\", middle_name = \"007\"):\n",
    "    return f\"The name is {last_name}, {first_name} {last_name}....{middle_name}\"\n",
    "\n",
    "print(agent_name(\"James\"))\n",
    "print(agent_name(\"Jimmy\", \"Borf\", \"Gorf\"))"
   ]
  },
  {
   "cell_type": "code",
   "execution_count": null,
   "metadata": {},
   "outputs": [],
   "source": [
    "# default parameters must always come after non-default parameters at all times forever and ever...or else\n",
    "\n"
   ]
  },
  {
   "cell_type": "markdown",
   "metadata": {},
   "source": [
    "##### Making an Argument Optional"
   ]
  },
  {
   "cell_type": "code",
   "execution_count": 25,
   "metadata": {},
   "outputs": [
    {
     "name": "stdout",
     "output_type": "stream",
     "text": [
      "Hello Mr.  Ed\n",
      "Hello Mr. Cool Guy Ed\n",
      "Hello Mr. Shadowfax \n"
     ]
    }
   ],
   "source": [
    "#If an arguement is not provided, the middle will come back as an empty str or nothing at all.\n",
    "def print_horse_name(first, middle=\"\", last = \"Ed\"):\n",
    "    return f\"Hello {first} {middle} {last}\"\n",
    "print(print_horse_name(\"Mr.\"))\n",
    "print(print_horse_name(\"Mr.\", \"Cool Guy\"))\n",
    "\n",
    "print(print_horse_name(\"Mr.\", \"Shadowfax\", \"\"))"
   ]
  },
  {
   "cell_type": "markdown",
   "metadata": {},
   "source": [
    "##### Keyword Arguments"
   ]
  },
  {
   "cell_type": "code",
   "execution_count": 31,
   "metadata": {},
   "outputs": [
    {
     "name": "stdout",
     "output_type": "stream",
     "text": [
      "10\n",
      "Batman's power is Money and their secret identity is Burce Wayne\n"
     ]
    }
   ],
   "source": [
    "#keyword arguments must follow positional arugments\n",
    "#positional arguments are arguments that fulfill the sam location as the parameter theyre referencing\n",
    "\n",
    "def subtract_nums(num1, num2, num3):\n",
    "    return num3 - num2 - num1 \n",
    "#                    n1  n2  n3\n",
    "print(subtract_nums(10, 20, 40))\n",
    "\n",
    "#keyword argumens are variables that are created when the function is called\n",
    "def print_hero(name, secret_identity, power= \"flying\"):\n",
    "    return f\"{name}'s power is {power} and their secret identity is {secret_identity}\"\n",
    "print(print_hero(secret_identity = \"Burce Wayne\", power = \"Money\", name = \"Batman\"))"
   ]
  },
  {
   "cell_type": "markdown",
   "metadata": {},
   "source": [
    "# Creating a start, stop, step function"
   ]
  },
  {
   "cell_type": "code",
   "execution_count": 36,
   "metadata": {
    "scrolled": true
   },
   "outputs": [
    {
     "name": "stdout",
     "output_type": "stream",
     "text": [
      "0\n",
      "1\n",
      "2\n",
      "3\n",
      "4\n",
      "5\n",
      "6\n",
      "7\n",
      "8\n",
      "9\n",
      "10\n",
      "11\n",
      "12\n",
      "Hey, great job, you're beautiful\n",
      "1\n",
      "3\n",
      "5\n",
      "7\n",
      "9\n",
      "11\n",
      "13\n"
     ]
    },
    {
     "data": {
      "text/plain": [
       "\"Hey, great job, you're beautiful\""
      ]
     },
     "execution_count": 36,
     "metadata": {},
     "output_type": "execute_result"
    }
   ],
   "source": [
    "#stop function is required \n",
    "\n",
    "def my_range(stop, start = 0, step = 1):\n",
    "    for i in range(start, stop, step):\n",
    "        print(i)\n",
    "    return \"Hey, great job, you're beautiful\"\n",
    "print(my_range(13))\n",
    "my_range(15, 1, 2)"
   ]
  },
  {
   "cell_type": "code",
   "execution_count": 42,
   "metadata": {},
   "outputs": [
    {
     "name": "stdout",
     "output_type": "stream",
     "text": [
      "1\n",
      "3\n",
      "5\n",
      "7\n",
      "9\n",
      "11\n",
      "13\n",
      "Hey great job, you're really doing this\n"
     ]
    },
    {
     "data": {
      "text/plain": [
       "[1, 3, 5, 7, 9, 11, 13]"
      ]
     },
     "execution_count": 42,
     "metadata": {},
     "output_type": "execute_result"
    }
   ],
   "source": [
    "def my_range(stop, start = 0, step = 1):\n",
    "    range_list = []\n",
    "    while start < stop:\n",
    "        print(start)\n",
    "        range_list.append(start)\n",
    "        start += step\n",
    "    print(\"Hey great job, you're really doing this\")\n",
    "    return range_list\n",
    "my_range(15, 1, 2)"
   ]
  },
  {
   "cell_type": "markdown",
   "metadata": {},
   "source": [
    "##### Returning Values"
   ]
  },
  {
   "cell_type": "code",
   "execution_count": 44,
   "metadata": {},
   "outputs": [
    {
     "data": {
      "text/plain": [
       "'something'"
      ]
     },
     "execution_count": 44,
     "metadata": {},
     "output_type": "execute_result"
    }
   ],
   "source": [
    "#returning will give us a tangible value we can work with, pass into other functions, alter, set \n",
    "#to variable.\n",
    "def return_something(something):\n",
    "    return something\n",
    "return_something(\"something\")"
   ]
  },
  {
   "cell_type": "markdown",
   "metadata": {},
   "source": [
    "##### *args / **kwargs (keyword arguments)"
   ]
  },
  {
   "cell_type": "code",
   "execution_count": 51,
   "metadata": {},
   "outputs": [
    {
     "name": "stdout",
     "output_type": "stream",
     "text": [
      "These are my positional arguments 20 23 Yamcha\n",
      "These are my *args, ('Goku', 'Krillin', 'Gohan')\n",
      "These are my **kwargs {'bad_guy': 'Cell', 'bad_guy2': 'Frieza', 'dragon_balls': [1, 2, 3, 4, 5, 6, 7]}\n"
     ]
    }
   ],
   "source": [
    "#*args (arguments), **kwargs(keyword arguements)\n",
    "# *args stands for arguments and will allow the function to take in any number of arguments\n",
    "# **kwargs stands for key word arguments and will allow the function to take in any number of keyword arguments\n",
    "# if other parameters are present, args and kwarfs must go last\n",
    "\n",
    "def print_args(num1, num2, name, *args, **kwargs):\n",
    "    print(\"These are my positional arguments\", num1, num2, name)\n",
    "    print(\"These are my *args,\", args)\n",
    "    print(\"These are my **kwargs\", kwargs)\n",
    "\n",
    "print_args(20, 23, \"Yamcha\", \"Goku\", \"Krillin\", \"Gohan\", bad_guy = \"Cell\", bad_guy2 = \"Frieza\", dragon_balls = [1,2,3,4,5,6,7])"
   ]
  },
  {
   "cell_type": "markdown",
   "metadata": {},
   "source": [
    "##### Docstring"
   ]
  },
  {
   "cell_type": "code",
   "execution_count": 58,
   "metadata": {},
   "outputs": [
    {
     "name": "stdout",
     "output_type": "stream",
     "text": [
      "Help on function title_names in module __main__:\n",
      "\n",
      "title_names(arr)\n",
      "    title_names(arr)\n",
      "    functions expects la list of strings to be passed in as an argument\n",
      "    It will loop thought the list of strings, capitalize them and return\n",
      "    a new list with the title-cased strings.\n",
      "\n"
     ]
    }
   ],
   "source": [
    "# docstrings are a really nice way to leave notes about funciontality in your code\n",
    "# provide instructions\n",
    "\n",
    "def title_names(arr):\n",
    "    \"\"\"\n",
    "    title_names(arr)\n",
    "    functions expects la list of strings to be passed in as an argument\n",
    "    It will loop thought the list of strings, capitalize them and return\n",
    "    a new list with the title-cased strings.\n",
    "    \"\"\"\n",
    "    for name in arr:\n",
    "        titles.append(name.title())\n",
    "    return titles\n",
    "\n",
    "help(title_names)\n",
    "\n",
    "    \n",
    "\n",
    "    "
   ]
  },
  {
   "cell_type": "markdown",
   "metadata": {},
   "source": [
    "##### Using a User Function in a Loop"
   ]
  },
  {
   "cell_type": "code",
   "execution_count": 2,
   "metadata": {},
   "outputs": [],
   "source": [
    "store = {}\n"
   ]
  },
  {
   "cell_type": "code",
   "execution_count": 4,
   "metadata": {
    "scrolled": true
   },
   "outputs": [
    {
     "name": "stdin",
     "output_type": "stream",
     "text": [
      "add something chip\n",
      "add something 3\n"
     ]
    }
   ],
   "source": [
    "def add_to_store(storage):\n",
    "    item = input(\"add something\")\n",
    "    quantity = input (\"add something\")\n",
    "\n",
    "    storage[item] = quantity\n",
    "\n",
    "\n",
    "add_to_store(store)\n",
    "\n"
   ]
  },
  {
   "cell_type": "code",
   "execution_count": 5,
   "metadata": {},
   "outputs": [
    {
     "name": "stdout",
     "output_type": "stream",
     "text": [
      "{'chips': '3', 'chip': '3'}\n"
     ]
    }
   ],
   "source": [
    "print(store)"
   ]
  },
  {
   "cell_type": "code",
   "execution_count": null,
   "metadata": {},
   "outputs": [],
   "source": [
    "print(new_store)"
   ]
  },
  {
   "cell_type": "code",
   "execution_count": 2,
   "metadata": {},
   "outputs": [],
   "source": [
    "cart = {}\n",
    "def add_item(user_cart):\n",
    "    item = input(\"What would you like to add?\")\n",
    "    quantity = int(input(f\"how many {item} would you like to add?\"))\n",
    "    if item not in user_cart:\n",
    "        user_cart[item] = quantity\n",
    "    else:\n",
    "        user_cart[item] += quantity\n",
    "\n",
    "def remove_items(user_cart):\n",
    "    item = input(\"What would you like to remove from your cart\")\n",
    "    del user_cart[item]\n",
    "\n",
    "def view_cart(user_cart):\n",
    "    print(user_cart)\n",
    "\n",
    "def run(user_cart):\n",
    "    while True:\n",
    "        response = input(\"what would you like to do? add, remove, show, quit?\")\n",
    "        if response.lower() == \"add\":\n",
    "            add_item(user_cart)\n",
    "        elif response.lower() == \"remove\":\n",
    "            remove_item(user_cart)\n",
    "        elif response.lower() == \"show\":\n",
    "            view_cart(user_cart)\n",
    "        elif response.lower == \"quit\":\n",
    "            print(user_cart)\n",
    "            break \n",
    "\n",
    "        else:\n",
    "            print(\"please enter a valid response\")\n",
    "\n"
   ]
  },
  {
   "cell_type": "markdown",
   "metadata": {},
   "source": [
    "## Function Exercises <br>\n",
    "### Exercise 1\n",
    "<p>Write a function that loops through a list of first_names and a list of last_names, combines the two and return a list of full_names</p>"
   ]
  },
  {
   "cell_type": "code",
   "execution_count": null,
   "metadata": {},
   "outputs": [],
   "source": []
  },
  {
   "cell_type": "code",
   "execution_count": 8,
   "metadata": {},
   "outputs": [
    {
     "data": {
      "text/plain": [
       "['John Smith', 'Evan Smith', 'Jordan Williams', 'Max Bell']"
      ]
     },
     "execution_count": 8,
     "metadata": {},
     "output_type": "execute_result"
    }
   ],
   "source": [
    "first_name = ['John', 'Evan', 'Jordan', 'Max',]\n",
    "last_name = ['Smith', 'Smith', 'Williams', 'Bell']\n",
    "\n",
    "# Output: ['John Smith', 'Evan Smith', 'Jordan Williams', 'Max Bell']\n",
    "def combine_names(first_names, last_names):\n",
    "    combine_name = []\n",
    "    if len(first_names) != len(last_names):\n",
    "        print(\"Those two lists are of different lengths! and I dont want to deal with that!\")\n",
    "        return combine_name\n",
    "    else:\n",
    "        for i in range(len(first_names)):\n",
    "            combine_name.append(first_names[i] + \" \" + last_names[i])\n",
    "    return combine_name\n",
    "combine_names(first_name, last_name)"
   ]
  },
  {
   "cell_type": "markdown",
   "metadata": {},
   "source": [
    "### Exercise 2\n",
    "Create a function that alters all values in the given list by subtracting 5 and then doubling them."
   ]
  },
  {
   "cell_type": "code",
   "execution_count": 4,
   "metadata": {},
   "outputs": [
    {
     "name": "stdout",
     "output_type": "stream",
     "text": [
      "[0, 10, 20, 30, -4]\n"
     ]
    }
   ],
   "source": [
    "input_list = [5,10,15,20,3]\n",
    "# output = [0,10,20,30,-4]\n",
    "\n",
    "\n",
    "def function(input_list):\n",
    "    result = []\n",
    "    for num in input_list:\n",
    "        num2= (num - 5)*2\n",
    "        result.append(num2)\n",
    "    return result\n",
    "\n",
    "print(function(input_list))\n",
    "\n",
    "# OR\n",
    "\n",
    "# def problem(list1):\n",
    "#     return [(i-5)*2 for i in list1]\n",
    "\n",
    "# print(problem(input_list))\n"
   ]
  },
  {
   "cell_type": "markdown",
   "metadata": {},
   "source": [
    "### Exercise 3\n",
    "Create a function that takes in a list of strings and filters out the strings that DO NOT contain vowels. "
   ]
  },
  {
   "cell_type": "code",
   "execution_count": 3,
   "metadata": {},
   "outputs": [
    {
     "ename": "NameError",
     "evalue": "name 'name' is not defined",
     "output_type": "error",
     "traceback": [
      "\u001b[1;31m---------------------------------------------------------------------------\u001b[0m",
      "\u001b[1;31mNameError\u001b[0m                                 Traceback (most recent call last)",
      "Cell \u001b[1;32mIn[3], line 15\u001b[0m\n\u001b[0;32m     12\u001b[0m                 \u001b[38;5;28;01mbreak\u001b[39;00m\n\u001b[0;32m     13\u001b[0m     \u001b[38;5;28;01mreturn\u001b[39;00m new_list\n\u001b[1;32m---> 15\u001b[0m \u001b[38;5;28mprint\u001b[39m(\u001b[43mremove_vowels\u001b[49m\u001b[43m(\u001b[49m\u001b[43mstring_list\u001b[49m\u001b[43m)\u001b[49m)\n\u001b[0;32m     17\u001b[0m \u001b[38;5;66;03m# def vowel(list1):\u001b[39;00m\n\u001b[0;32m     18\u001b[0m \u001b[38;5;66;03m#     new_list = []\u001b[39;00m\n\u001b[0;32m     19\u001b[0m \u001b[38;5;66;03m#     vowels = ['a', 'e', 'i', 'o', 'u']\u001b[39;00m\n\u001b[1;32m   (...)\u001b[0m\n\u001b[0;32m     27\u001b[0m \n\u001b[0;32m     28\u001b[0m \u001b[38;5;66;03m# print(vowel(string_list))\u001b[39;00m\n",
      "Cell \u001b[1;32mIn[3], line 9\u001b[0m, in \u001b[0;36mremove_vowels\u001b[1;34m(input_list)\u001b[0m\n\u001b[0;32m      7\u001b[0m new_list \u001b[38;5;241m=\u001b[39m []\n\u001b[0;32m      8\u001b[0m \u001b[38;5;28;01mfor\u001b[39;00m i \u001b[38;5;129;01min\u001b[39;00m input_list:\n\u001b[1;32m----> 9\u001b[0m     \u001b[38;5;28;01mfor\u001b[39;00m letter \u001b[38;5;129;01min\u001b[39;00m \u001b[43mname\u001b[49m:\n\u001b[0;32m     10\u001b[0m         \u001b[38;5;28;01mif\u001b[39;00m letter\u001b[38;5;241m.\u001b[39mlower() \u001b[38;5;129;01min\u001b[39;00m vowels:\n\u001b[0;32m     11\u001b[0m             new_list\u001b[38;5;241m.\u001b[39mappend(name)\n",
      "\u001b[1;31mNameError\u001b[0m: name 'name' is not defined"
     ]
    }
   ],
   "source": [
    "string_list = ['Sheldon','Pnny','Leonard','Hwrd','Rj','Amy','Strt']\n",
    "# output = ['Sheldon','Leonard','Amy']\n",
    "\n",
    "\n",
    "def remove_vowels(input_list):\n",
    "    vowels = [\"a\" \"e\" \"i\" \"o\" \"u\"]\n",
    "    new_list = []\n",
    "    for i in input_list:\n",
    "        for letter in name:\n",
    "            if letter.lower() in vowels:\n",
    "                new_list.append(name)\n",
    "                break\n",
    "    return new_list\n",
    "\n",
    "print(remove_vowels(string_list))\n",
    "\n",
    "# def vowel(list1):\n",
    "#     new_list = []\n",
    "#     vowels = ['a', 'e', 'i', 'o', 'u']\n",
    "#     for name in list1:\n",
    "#         for letter in name:\n",
    "#             if letter.lower() in vowels:\n",
    "#                 new_list.append(name)\n",
    "#                 break\n",
    "                \n",
    "#     return new_list\n",
    "\n",
    "# print(vowel(string_list))\n"
   ]
  },
  {
   "cell_type": "code",
   "execution_count": null,
   "metadata": {},
   "outputs": [],
   "source": []
  },
  {
   "cell_type": "code",
   "execution_count": null,
   "metadata": {},
   "outputs": [],
   "source": []
  },
  {
   "cell_type": "markdown",
   "metadata": {},
   "source": [
    "### Exercise 4\n",
    "Create a function that accepts a list as a parameter and returns a dictionary containing the list items as it's keys, and the number of times they appear in the list as the values"
   ]
  },
  {
   "cell_type": "code",
   "execution_count": 1,
   "metadata": {},
   "outputs": [
    {
     "name": "stdout",
     "output_type": "stream",
     "text": [
      "{'Harry': 3, 'Hermione': 2, 'Ron': 4, 'Dobby': 1, 'Draco': 1, 'Luna': 1}\n"
     ]
    }
   ],
   "source": [
    "example_list = [\"Harry\", 'Hermione','Harry','Ron','Dobby','Draco','Luna','Harry','Hermione','Ron','Ron','Ron']\n",
    "\n",
    "\n",
    "# def get_count_dict(input_list):\n",
    "#     no_dups = set(input_list)\n",
    "\n",
    "#     output_dict = {}\n",
    "\n",
    "#     for item in no_dups:\n",
    "#         output_dict[item] = input_list.count(item)\n",
    "#     print(no_dups)\n",
    "\n",
    "#     return output_dict\n",
    "\n",
    "# print(get_count_dict(example_list))\n",
    "\n",
    "\n",
    "def get_count_dict(input_list):\n",
    "    output_dict = {}\n",
    "\n",
    "    for item in input_list:\n",
    "        if output_dict.get(item) == None:\n",
    "            output_dict[item] = 1\n",
    "        else:\n",
    "            output_dict[item] = output_dict[item] +1\n",
    "    return output_dict\n",
    "\n",
    "print(get_count_dict(example_list))\n",
    "# output = {\n",
    "#     \"Harry\":3,\n",
    "#     \"Hermione\":2,\n",
    "#     \"Ron\":4,\n",
    "#     \"Dobby\":1,\n",
    "#     \"Draco\":1,\n",
    "#     \"Luna\": 1\n",
    "# }\n",
    "#.count gives the count of each item. \n",
    "# Make a set\n",
    "# use the set value to get the list count"
   ]
  },
  {
   "cell_type": "markdown",
   "metadata": {},
   "source": [
    "\n",
    "\n",
    "## Scope <br>\n",
    "<p>Scope refers to the ability to access variables, different types of scope include:<br>a) Global<br>b) Function (local)<br>c) Class (local)</p>"
   ]
  },
  {
   "cell_type": "code",
   "execution_count": 1,
   "metadata": {},
   "outputs": [
    {
     "name": "stdout",
     "output_type": "stream",
     "text": [
      "Orlando Bloom\n",
      "1\n",
      "2\n",
      "3\n",
      "4\n",
      "5\n",
      "6\n",
      "7\n",
      "8\n",
      "9\n",
      "10\n"
     ]
    }
   ],
   "source": [
    "# placement of variable declaration matters\n",
    "name = \"Orlando Bloom\" #Global Variable\n",
    "#global variable can be acces by anything on that file\n",
    "\n",
    "def increment_stuff():\n",
    "    counter = 0 #Locally scoped function variable\n",
    "    print(name)\n",
    "    while counter < 10:\n",
    "        counter +=1\n",
    "        print(counter)\n",
    "increment_stuff()\n",
    "# print(num1)"
   ]
  },
  {
   "cell_type": "markdown",
   "metadata": {},
   "source": [
    "## Modules"
   ]
  },
  {
   "cell_type": "markdown",
   "metadata": {},
   "source": [
    "##### Importing Entire Modules\n"
   ]
  },
  {
   "cell_type": "code",
   "execution_count": 2,
   "metadata": {},
   "outputs": [
    {
     "name": "stdout",
     "output_type": "stream",
     "text": [
      "2\n",
      "3\n",
      "4\n",
      "3.141592653589793\n"
     ]
    }
   ],
   "source": [
    "## Modules\n",
    "import math\n",
    "num = 5\n",
    "num2 = 2\n",
    "num3 = num//num2\n",
    "print(num3)\n",
    "\n",
    "print(math.ceil(5/2))\n",
    "\n",
    "print(math.ceil(math.pi))\n",
    "\n",
    "print(math.pi)\n",
    "\n",
    "\n",
    "\n"
   ]
  },
  {
   "cell_type": "markdown",
   "metadata": {},
   "source": [
    "##### Importing Methods Only"
   ]
  },
  {
   "cell_type": "code",
   "execution_count": null,
   "metadata": {},
   "outputs": [],
   "source": [
    "# from xxx import yyy\n",
    "#from math import floor\n"
   ]
  },
  {
   "cell_type": "markdown",
   "metadata": {},
   "source": [
    "##### Using the 'as' Keyword"
   ]
  },
  {
   "cell_type": "code",
   "execution_count": null,
   "metadata": {},
   "outputs": [],
   "source": [
    "# from xxx import yyy as z\n"
   ]
  },
  {
   "cell_type": "markdown",
   "metadata": {},
   "source": [
    "##### Creating a Module"
   ]
  },
  {
   "cell_type": "code",
   "execution_count": 1,
   "metadata": {
    "scrolled": true
   },
   "outputs": [
    {
     "ename": "ModuleNotFoundError",
     "evalue": "No module named 'module'",
     "output_type": "error",
     "traceback": [
      "\u001b[1;31m---------------------------------------------------------------------------\u001b[0m",
      "\u001b[1;31mModuleNotFoundError\u001b[0m                       Traceback (most recent call last)",
      "Cell \u001b[1;32mIn[1], line 1\u001b[0m\n\u001b[1;32m----> 1\u001b[0m \u001b[38;5;28;01mfrom\u001b[39;00m \u001b[38;5;21;01mmodule\u001b[39;00m \u001b[38;5;28;01mimport\u001b[39;00m printName \u001b[38;5;28;01mas\u001b[39;00m pn\n",
      "\u001b[1;31mModuleNotFoundError\u001b[0m: No module named 'module'"
     ]
    }
   ],
   "source": [
    "from module import printName as pn\n",
    "\n",
    "\n"
   ]
  },
  {
   "cell_type": "code",
   "execution_count": null,
   "metadata": {},
   "outputs": [],
   "source": []
  },
  {
   "cell_type": "markdown",
   "metadata": {},
   "source": [
    "# Homework Exercises"
   ]
  },
  {
   "cell_type": "markdown",
   "metadata": {},
   "source": [
    "# 1) Create a Module in VS Code and Import It into jupyter notebook <br>\n",
    "<p><b>Module should have the following capabilities:</b><br><br>\n",
    "1a) Has a function to calculate the square footage of a house <br>\n",
    "    <b>Reminder of Formula: Length X Width == Area</b><br>\n",
    "        <hr>\n",
    "1b) Has a function to calculate the circumference of a circle 2 Pi r <br><br>\n",
    "<b>Program in Jupyter Notebook should take in user input and use imported functions to calculate a circle's circumference or a houses square footage</b>\n",
    "</p>"
   ]
  },
  {
   "cell_type": "code",
   "execution_count": 7,
   "metadata": {},
   "outputs": [
    {
     "ename": "ModuleNotFoundError",
     "evalue": "No module named 'area_cal_house'",
     "output_type": "error",
     "traceback": [
      "\u001b[1;31m---------------------------------------------------------------------------\u001b[0m",
      "\u001b[1;31mModuleNotFoundError\u001b[0m                       Traceback (most recent call last)",
      "Cell \u001b[1;32mIn[7], line 2\u001b[0m\n\u001b[0;32m      1\u001b[0m \u001b[38;5;66;03m#1a \u001b[39;00m\n\u001b[1;32m----> 2\u001b[0m \u001b[38;5;28;01mimport\u001b[39;00m \u001b[38;5;21;01marea_cal_house\u001b[39;00m \n\u001b[0;32m      3\u001b[0m \u001b[38;5;28;01mdef\u001b[39;00m \u001b[38;5;21mhouse\u001b[39m(area):\n\u001b[0;32m      4\u001b[0m     area_of_house \u001b[38;5;241m=\u001b[39m length_side \u001b[38;5;241m*\u001b[39m width_side\n",
      "\u001b[1;31mModuleNotFoundError\u001b[0m: No module named 'area_cal_house'"
     ]
    }
   ],
   "source": [
    "#1a \n",
    "import area_cal_house \n",
    "def house(area):\n",
    "    area_of_house = length_side * width_side\n",
    "    return area_of_house\n",
    "\n",
    "\n",
    "len_side = input(\"Enter the length of the house: \")\n",
    "wid_side = input(\"Enter the width of the house: \")\n",
    "\n",
    "sq_foot = area_cal_house.house(len_side, wid_side)\n",
    "\n",
    "print(f\"The square footage of the house is {square_footage} sq. units\")\n"
   ]
  },
  {
   "cell_type": "code",
   "execution_count": 4,
   "metadata": {},
   "outputs": [],
   "source": [
    "import circle_module"
   ]
  },
  {
   "cell_type": "code",
   "execution_count": 5,
   "metadata": {},
   "outputs": [
    {
     "name": "stdin",
     "output_type": "stream",
     "text": [
      "Enter the radius of the circle:  30\n"
     ]
    },
    {
     "ename": "AttributeError",
     "evalue": "module 'circle_module' has no attribute 'circle'",
     "output_type": "error",
     "traceback": [
      "\u001b[1;31m---------------------------------------------------------------------------\u001b[0m",
      "\u001b[1;31mAttributeError\u001b[0m                            Traceback (most recent call last)",
      "Cell \u001b[1;32mIn[5], line 11\u001b[0m\n\u001b[0;32m      1\u001b[0m \u001b[38;5;66;03m#1b\u001b[39;00m\n\u001b[0;32m      2\u001b[0m \n\u001b[0;32m      3\u001b[0m \u001b[38;5;66;03m# Has a function to calculate the circumference of a circle 2 Pi r\u001b[39;00m\n\u001b[1;32m   (...)\u001b[0m\n\u001b[0;32m      6\u001b[0m \u001b[38;5;66;03m#     circumference = 2 * math.pi * radius\u001b[39;00m\n\u001b[0;32m      7\u001b[0m \u001b[38;5;66;03m#     return circle_area\u001b[39;00m\n\u001b[0;32m      9\u001b[0m radius \u001b[38;5;241m=\u001b[39m \u001b[38;5;28minput\u001b[39m(\u001b[38;5;124m\"\u001b[39m\u001b[38;5;124mEnter the radius of the circle: \u001b[39m\u001b[38;5;124m\"\u001b[39m)\n\u001b[1;32m---> 11\u001b[0m circumference \u001b[38;5;241m=\u001b[39m \u001b[43mcircle_module\u001b[49m\u001b[38;5;241;43m.\u001b[39;49m\u001b[43mcircle\u001b[49m(radius)\n\u001b[0;32m     12\u001b[0m \u001b[38;5;28mprint\u001b[39m(\u001b[38;5;124mf\u001b[39m\u001b[38;5;124m\"\u001b[39m\u001b[38;5;124mThe circumference of the circle with the \u001b[39m\u001b[38;5;132;01m{\u001b[39;00mradius\u001b[38;5;132;01m}\u001b[39;00m\u001b[38;5;124m is:     \u001b[39m\u001b[38;5;124m\"\u001b[39m)\n",
      "\u001b[1;31mAttributeError\u001b[0m: module 'circle_module' has no attribute 'circle'"
     ]
    }
   ],
   "source": [
    "#1b\n",
    "\n",
    "# Has a function to calculate the circumference of a circle 2 Pi r\n",
    "# import math\n",
    "# def circle(radius): #need a function\n",
    "#     circumference = 2 * math.pi * radius\n",
    "#     return circle_area\n",
    "\n",
    "radius = input(\"Enter the radius of the circle: \")\n",
    "\n",
    "circumference = circle_module.circle(radius)\n",
    "print(f\"The circumference of the circle with the {radius} is:     \")"
   ]
  },
  {
   "cell_type": "code",
   "execution_count": null,
   "metadata": {},
   "outputs": [],
   "source": []
  },
  {
   "cell_type": "markdown",
   "metadata": {},
   "source": [
    "### 2) Build a Shopping Cart Function <br>\n",
    "<p><b>You can use either lists or dictionaries. The program should have the following capabilities:</b><br><br>\n",
    "1) Takes in input <br>\n",
    "2) Stores user input into a dictionary or list <br>\n",
    "3) The User can add or delete items <br>\n",
    "4) The User can see current shopping list <br>\n",
    "5) The program Loops until user 'quits' <br>\n",
    "6) Upon quiting the program, print out all items in the user's list <br>\n",
    "</p>"
   ]
  },
  {
   "cell_type": "code",
   "execution_count": 1,
   "metadata": {},
   "outputs": [
    {
     "name": "stdin",
     "output_type": "stream",
     "text": [
      "What would like to do? Press, 'add' to add item, 'show' to show items in cart, 'delete' to remove item, or 'quit' to exit.   add\n",
      "What would you like add?:  chips\n"
     ]
    },
    {
     "name": "stdout",
     "output_type": "stream",
     "text": [
      "chips is now in your cart.\n"
     ]
    },
    {
     "name": "stdin",
     "output_type": "stream",
     "text": [
      "What would like to do? Press, 'add' to add item, 'show' to show items in cart, 'delete' to remove item, or 'quit' to exit.   add\n",
      "What would you like add?:  cookies\n"
     ]
    },
    {
     "name": "stdout",
     "output_type": "stream",
     "text": [
      "cookies is now in your cart.\n"
     ]
    },
    {
     "name": "stdin",
     "output_type": "stream",
     "text": [
      "What would like to do? Press, 'add' to add item, 'show' to show items in cart, 'delete' to remove item, or 'quit' to exit.   oranges\n"
     ]
    },
    {
     "name": "stdout",
     "output_type": "stream",
     "text": [
      "Try again.\n"
     ]
    },
    {
     "name": "stdin",
     "output_type": "stream",
     "text": [
      "What would like to do? Press, 'add' to add item, 'show' to show items in cart, 'delete' to remove item, or 'quit' to exit.   add\n",
      "What would you like add?:  oranges\n"
     ]
    },
    {
     "name": "stdout",
     "output_type": "stream",
     "text": [
      "oranges is now in your cart.\n"
     ]
    },
    {
     "name": "stdin",
     "output_type": "stream",
     "text": [
      "What would like to do? Press, 'add' to add item, 'show' to show items in cart, 'delete' to remove item, or 'quit' to exit.   show\n"
     ]
    },
    {
     "name": "stdout",
     "output_type": "stream",
     "text": [
      "Current items in shopping cart: \n",
      "chips\n",
      "cookies\n",
      "oranges\n"
     ]
    },
    {
     "name": "stdin",
     "output_type": "stream",
     "text": [
      "What would like to do? Press, 'add' to add item, 'show' to show items in cart, 'delete' to remove item, or 'quit' to exit.   delete\n",
      "Which item would you like to remove? cookies\n"
     ]
    },
    {
     "name": "stdout",
     "output_type": "stream",
     "text": [
      "cookies has been removed from cart\n"
     ]
    },
    {
     "name": "stdin",
     "output_type": "stream",
     "text": [
      "What would like to do? Press, 'add' to add item, 'show' to show items in cart, 'delete' to remove item, or 'quit' to exit.   show\n"
     ]
    },
    {
     "name": "stdout",
     "output_type": "stream",
     "text": [
      "Current items in shopping cart: \n",
      "chips\n",
      "oranges\n"
     ]
    },
    {
     "name": "stdin",
     "output_type": "stream",
     "text": [
      "What would like to do? Press, 'add' to add item, 'show' to show items in cart, 'delete' to remove item, or 'quit' to exit.   quit\n"
     ]
    },
    {
     "name": "stdout",
     "output_type": "stream",
     "text": [
      "Exiting the cart\n",
      "Final items in cart: \n",
      "chips\n",
      "oranges\n"
     ]
    }
   ],
   "source": [
    "shopping_cart = [] \n",
    "\n",
    "while True:\n",
    "    user_cart = input(\"What would like to do? Press, 'add' to add item, 'show' to show items in cart, 'delete' to remove item, or 'quit' to exit.  \")\n",
    "\n",
    "    if user_cart == 'add':\n",
    "        add_item = input(\"What would you like add?: \")\n",
    "        shopping_cart.append(add_item)\n",
    "        print(f\"{add_item} is now in your cart.\")\n",
    "    \n",
    "    elif user_cart == 'show':\n",
    "        print(\"Current items in shopping cart: \")\n",
    "        if not shopping_cart:\n",
    "             print(\"Empty Cart.\")\n",
    "        else:\n",
    "            for item in shopping_cart:\n",
    "                print(item)\n",
    "        \n",
    "            \n",
    "    elif user_cart == 'delete':\n",
    "        delete_item = input(\"Which item would you like to remove?\")\n",
    "        if delete_item in shopping_cart:\n",
    "            shopping_cart.remove(delete_item)\n",
    "            print(f\"{delete_item} has been removed from cart\")\n",
    "            \n",
    "    elif user_cart == 'quit':\n",
    "        print(\"Exiting the cart\")\n",
    "        break\n",
    "    else:\n",
    "        print(\"Try again.\")\n",
    "\n",
    "print(\"Final items in cart: \")\n",
    "for item in shopping_cart:\n",
    "    print(item)\n",
    "        \n",
    "        \n",
    "        \n",
    "# Reference below but try something different to understand\n",
    "# def add_item(customer_cart):\n",
    "#     item = input(\"What would you like to add?\")\n",
    "#     quantity = int(input(f\"how many {item} would you like to add?\"))\n",
    "#     if item not in user_cart:\n",
    "#         customer_cart[item] = quantity\n",
    "#     else:\n",
    "#         customer_cart[item] += quantity\n",
    "\n",
    "# def remove_items(customer_cart):\n",
    "#     item = input(\"What would you like to remove from your cart\")\n",
    "#     del customer_cart[item]\n",
    "\n",
    "# def view_cart(customer_cart):\n",
    "#     print(customer_cart)\n",
    "\n",
    "# def run(customer_cart):\n",
    "#     while True:\n",
    "#         response = input(\"what would you like to do? add, remove, show, quit?\")\n",
    "#         if response.lower() == \"add\":\n",
    "#             add_item(customer_cart)\n",
    "#         elif response.lower() == \"remove\":\n",
    "#             remove_item(customer_cart)\n",
    "#         elif response.lower() == \"show\":\n",
    "#             view_cart(customer_cart)\n",
    "#         elif response.lower == \"quit\":\n",
    "#             print(customer_cart)\n",
    "#             break \n",
    "\n",
    "#         else:\n",
    "#             print(\"please enter a valid response\")\n"
   ]
  },
  {
   "cell_type": "code",
   "execution_count": null,
   "metadata": {},
   "outputs": [],
   "source": []
  },
  {
   "cell_type": "code",
   "execution_count": null,
   "metadata": {},
   "outputs": [],
   "source": []
  }
 ],
 "metadata": {
  "kernelspec": {
   "display_name": "Python 3 (ipykernel)",
   "language": "python",
   "name": "python3"
  },
  "language_info": {
   "codemirror_mode": {
    "name": "ipython",
    "version": 3
   },
   "file_extension": ".py",
   "mimetype": "text/x-python",
   "name": "python",
   "nbconvert_exporter": "python",
   "pygments_lexer": "ipython3",
   "version": "3.11.5"
  }
 },
 "nbformat": 4,
 "nbformat_minor": 4
}
